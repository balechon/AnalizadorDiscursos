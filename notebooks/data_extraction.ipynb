{
 "cells": [
  {
   "metadata": {},
   "cell_type": "code",
   "outputs": [],
   "execution_count": null,
   "source": [
    "# load and auto-reload modules\n",
    "%load_ext autoreload\n",
    "%autoreload 2"
   ],
   "id": "a21773c51335a86e"
  },
  {
   "cell_type": "code",
   "execution_count": null,
   "id": "initial_id",
   "metadata": {
    "collapsed": true
   },
   "outputs": [],
   "source": [
    "# para usar los modulos de src\n",
    "import sys\n",
    "from pathlib import Path\n",
    "notebook_path = Path().resolve()\n",
    "project_root = notebook_path.parent\n",
    "sys.path.append(str(project_root))\n",
    "\n",
    "# carga las variables de entorno\n",
    "from dotenv import load_dotenv\n",
    "load_dotenv()"
   ]
  },
  {
   "metadata": {},
   "cell_type": "code",
   "outputs": [],
   "execution_count": null,
   "source": [
    "from selenium import webdriver\n",
    "from selenium.webdriver.chrome.options import Options\n",
    "from src.modules.scraper_ec_verifica import extraer_articulos, path_articulos_directory\n",
    "import random\n",
    "import time\n",
    "import os"
   ],
   "id": "cd3cca9054fda59"
  },
  {
   "metadata": {},
   "cell_type": "code",
   "outputs": [],
   "execution_count": null,
   "source": [
    "# Crear un directorio para guardar los artículos\n",
    "if not os.path.exists(path_articulos_directory):\n",
    "    os.makedirs(path_articulos_directory)\n"
   ],
   "id": "e68abfb14c8cafb3"
  },
  {
   "metadata": {},
   "cell_type": "code",
   "outputs": [],
   "execution_count": null,
   "source": [
    "# Lista de User-Agents para rotar\n",
    "user_agents = [\n",
    "    'Mozilla/5.0 (Windows NT 10.0; Win64; x64) AppleWebKit/537.36 (KHTML, like Gecko) Chrome/91.0.4472.124 Safari/537.36',\n",
    "    'Mozilla/5.0 (X11; Linux x86_64) AppleWebKit/537.36 (KHTML, like Gecko) Chrome/92.0.4515.107 Safari/537.36',\n",
    "    'Mozilla/5.0 (Windows NT 10.0; Win64; x64; rv:90.0) Gecko/20100101 Firefox/90.0',\n",
    "    'Mozilla/5.0 (Macintosh; Intel Mac OS X 11.5; rv:90.0) Gecko/20100101 Firefox/90.0'\n",
    "]\n",
    "\n",
    "# URL base de la página principal\n",
    "base_url = \"https://ecuadorverifica.org/discurso-publico/\"\n",
    "\n",
    "# Configurar opciones de Chrome\n",
    "chrome_options = Options()\n",
    "chrome_options.add_argument(\"--headless\")\n",
    "chrome_options.add_argument(f\"user-agent={random.choice(user_agents)}\")\n",
    "chrome_options.add_argument(\"--disable-blink-features=AutomationControlled\")\n",
    "\n",
    "# Inicializar el driver de Selenium\n",
    "driver = webdriver.Chrome(options=chrome_options)"
   ],
   "id": "8edb9922408969a5"
  },
  {
   "metadata": {},
   "cell_type": "code",
   "outputs": [],
   "execution_count": null,
   "source": [
    "\n",
    "driver.get(base_url,user_agents)\n",
    "time.sleep(5)  # Esperar 5 segundos para asegurar que la página se cargue completamente\n",
    "\n",
    "# Extraer artículos\n",
    "extraer_articulos(driver)\n",
    "\n",
    "# Cerrar el navegador\n",
    "driver.quit()"
   ],
   "id": "51824c9726d414e9"
  }
 ],
 "metadata": {
  "kernelspec": {
   "display_name": "Python 3",
   "language": "python",
   "name": "python3"
  },
  "language_info": {
   "codemirror_mode": {
    "name": "ipython",
    "version": 2
   },
   "file_extension": ".py",
   "mimetype": "text/x-python",
   "name": "python",
   "nbconvert_exporter": "python",
   "pygments_lexer": "ipython2",
   "version": "2.7.6"
  }
 },
 "nbformat": 4,
 "nbformat_minor": 5
}
