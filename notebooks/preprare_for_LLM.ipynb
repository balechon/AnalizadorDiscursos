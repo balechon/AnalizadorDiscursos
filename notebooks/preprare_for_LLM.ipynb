{
 "cells": [
  {
   "cell_type": "code",
   "id": "initial_id",
   "metadata": {
    "collapsed": true,
    "ExecuteTime": {
     "end_time": "2024-09-08T01:40:37.109541Z",
     "start_time": "2024-09-08T01:40:37.098591Z"
    }
   },
   "source": [
    ""
   ],
   "outputs": [],
   "execution_count": null
  },
  {
   "metadata": {
    "ExecuteTime": {
     "end_time": "2024-09-15T22:47:30.151420Z",
     "start_time": "2024-09-15T22:47:30.074553Z"
    }
   },
   "cell_type": "code",
   "source": [
    "# load and auto-reload modules\n",
    "%load_ext autoreload\n",
    "%autoreload 2"
   ],
   "id": "51389c1d353c4072",
   "outputs": [],
   "execution_count": 2
  },
  {
   "metadata": {
    "ExecuteTime": {
     "end_time": "2024-09-15T22:47:31.931122Z",
     "start_time": "2024-09-15T22:47:31.841255Z"
    }
   },
   "cell_type": "code",
   "source": [
    "# para usar los modulos de src\n",
    "import sys\n",
    "from pathlib import Path\n",
    "notebook_path = Path().resolve()\n",
    "project_root = notebook_path.parent\n",
    "sys.path.append(str(project_root))\n",
    "\n",
    "# carga las variables de entorno\n",
    "from dotenv import load_dotenv\n",
    "load_dotenv()"
   ],
   "id": "34619540c45b9e8a",
   "outputs": [
    {
     "data": {
      "text/plain": [
       "True"
      ]
     },
     "execution_count": 3,
     "metadata": {},
     "output_type": "execute_result"
    }
   ],
   "execution_count": 3
  },
  {
   "metadata": {},
   "cell_type": "markdown",
   "source": "# Preparar datos para LLM",
   "id": "b82df1bcce1cb267"
  },
  {
   "metadata": {
    "ExecuteTime": {
     "end_time": "2024-09-15T22:47:35.617587Z",
     "start_time": "2024-09-15T22:47:35.541204Z"
    }
   },
   "cell_type": "code",
   "source": [
    "# importar modulos\n",
    "import pandas as pd\n",
    "import numpy as np\n",
    "from pathlib import Path\n",
    "import os\n",
    "from src.modules.paths_reference import ROOT_PATH"
   ],
   "id": "e18738d34357335e",
   "outputs": [],
   "execution_count": 4
  },
  {
   "metadata": {},
   "cell_type": "markdown",
   "source": "## Preprocesar los datos de articulos",
   "id": "e7c393d90d3137cb"
  },
  {
   "metadata": {
    "ExecuteTime": {
     "end_time": "2024-09-08T01:43:37.016577Z",
     "start_time": "2024-09-08T01:43:36.928636Z"
    }
   },
   "cell_type": "code",
   "source": [
    "# read all plain files in the data/articulos\n",
    "articulos_path = ROOT_PATH / 'data' / 'articulos'\n",
    "articulos = []\n",
    "for file in articulos_path.iterdir():\n",
    "    with open(file, 'r', encoding='utf-8') as f:\n",
    "        articulos.append(f.read())"
   ],
   "id": "83bb72b6dbbd3dcf",
   "outputs": [],
   "execution_count": 7
  },
  {
   "metadata": {
    "ExecuteTime": {
     "end_time": "2024-09-08T02:20:00.159839Z",
     "start_time": "2024-09-08T02:20:00.063074Z"
    }
   },
   "cell_type": "code",
   "source": [
    "# create a funtion to extract data from the plain text\n",
    "import re\n",
    "def extract_data(text):\n",
    "    # extract title, search the word title: and extract the text after it\n",
    "    title = re.search(r'(?<=Título: ).+(?=\\n)', text).group()\n",
    "    # extract link, search the word Enlace: and extract the text after it\n",
    "    link = re.search(r'(?<=Enlace: ).+(?=\\n)', text).group()\n",
    "    # extract body, search the word Contenido: consider the line breaks\n",
    "    body = re.search(r'(?<=Contenido:)[\\s\\S]*?(?=\\nTe puede interesar:|\\Z)', text, flags=re.DOTALL).group()\n",
    "   \n",
    "    return title, link, body"
   ],
   "id": "eb2874b477a3b44",
   "outputs": [],
   "execution_count": 27
  },
  {
   "metadata": {
    "ExecuteTime": {
     "end_time": "2024-09-08T02:21:01.875861Z",
     "start_time": "2024-09-08T02:21:01.788913Z"
    }
   },
   "cell_type": "code",
   "source": [
    "# create a dataframe with the data extracted, puth the data in a list of dictionaries\n",
    "data = []\n",
    "for articulo in articulos:\n",
    "    title, link, body = extract_data(articulo)\n",
    "    data.append({'title': title, 'link': link, 'body': body})"
   ],
   "id": "6411d6ba09555d6",
   "outputs": [],
   "execution_count": 28
  },
  {
   "metadata": {
    "ExecuteTime": {
     "end_time": "2024-09-08T02:21:26.448132Z",
     "start_time": "2024-09-08T02:21:26.371167Z"
    }
   },
   "cell_type": "code",
   "source": [
    "# create a dataframe\n",
    "df = pd.DataFrame(data)"
   ],
   "id": "515956508219fac5",
   "outputs": [],
   "execution_count": 30
  },
  {
   "metadata": {
    "ExecuteTime": {
     "end_time": "2024-09-08T02:21:30.170369Z",
     "start_time": "2024-09-08T02:21:30.088470Z"
    }
   },
   "cell_type": "code",
   "source": "df.head()",
   "id": "be81610c4ca36c52",
   "outputs": [
    {
     "data": {
      "text/plain": [
       "                                               title  \\\n",
       "0  “El año pasado hubo 6.600 denuncias contra pol...   \n",
       "1  “Más del 50% de los detenidos sólo han acabado...   \n",
       "2  “Cerca de 332 mujeres que murieron el año ante...   \n",
       "3  “Encontraron una piscina de tilapia en una de ...   \n",
       "4  «El 40% del parque automotor (de la Policía) e...   \n",
       "\n",
       "                                                link  \\\n",
       "0  https://ecuadorverifica.org/2023/09/20/el-ano-...   \n",
       "1  https://ecuadorverifica.org/2023/09/08/mas-del...   \n",
       "2  https://ecuadorverifica.org/2023/09/08/cerca-d...   \n",
       "3  https://ecuadorverifica.org/2023/09/05/encontr...   \n",
       "4  https://ecuadorverifica.org/2023/08/15/el-40-d...   \n",
       "\n",
       "                                                body  \n",
       "0  \\nSegún cifras oficiales, apenas 34 denuncias ...  \n",
       "1  \\nLas cifras ofrecidas por la candidata son ce...  \n",
       "2  \\nLa cifra la han confirmado colectivos de la ...  \n",
       "3  \\nEl hallazgo se dio durante una de las interv...  \n",
       "4  \\nSegún las cifras oficiales, el 58% de los ca...  "
      ],
      "text/html": [
       "<div>\n",
       "<style scoped>\n",
       "    .dataframe tbody tr th:only-of-type {\n",
       "        vertical-align: middle;\n",
       "    }\n",
       "\n",
       "    .dataframe tbody tr th {\n",
       "        vertical-align: top;\n",
       "    }\n",
       "\n",
       "    .dataframe thead th {\n",
       "        text-align: right;\n",
       "    }\n",
       "</style>\n",
       "<table border=\"1\" class=\"dataframe\">\n",
       "  <thead>\n",
       "    <tr style=\"text-align: right;\">\n",
       "      <th></th>\n",
       "      <th>title</th>\n",
       "      <th>link</th>\n",
       "      <th>body</th>\n",
       "    </tr>\n",
       "  </thead>\n",
       "  <tbody>\n",
       "    <tr>\n",
       "      <th>0</th>\n",
       "      <td>“El año pasado hubo 6.600 denuncias contra pol...</td>\n",
       "      <td>https://ecuadorverifica.org/2023/09/20/el-ano-...</td>\n",
       "      <td>\\nSegún cifras oficiales, apenas 34 denuncias ...</td>\n",
       "    </tr>\n",
       "    <tr>\n",
       "      <th>1</th>\n",
       "      <td>“Más del 50% de los detenidos sólo han acabado...</td>\n",
       "      <td>https://ecuadorverifica.org/2023/09/08/mas-del...</td>\n",
       "      <td>\\nLas cifras ofrecidas por la candidata son ce...</td>\n",
       "    </tr>\n",
       "    <tr>\n",
       "      <th>2</th>\n",
       "      <td>“Cerca de 332 mujeres que murieron el año ante...</td>\n",
       "      <td>https://ecuadorverifica.org/2023/09/08/cerca-d...</td>\n",
       "      <td>\\nLa cifra la han confirmado colectivos de la ...</td>\n",
       "    </tr>\n",
       "    <tr>\n",
       "      <th>3</th>\n",
       "      <td>“Encontraron una piscina de tilapia en una de ...</td>\n",
       "      <td>https://ecuadorverifica.org/2023/09/05/encontr...</td>\n",
       "      <td>\\nEl hallazgo se dio durante una de las interv...</td>\n",
       "    </tr>\n",
       "    <tr>\n",
       "      <th>4</th>\n",
       "      <td>«El 40% del parque automotor (de la Policía) e...</td>\n",
       "      <td>https://ecuadorverifica.org/2023/08/15/el-40-d...</td>\n",
       "      <td>\\nSegún las cifras oficiales, el 58% de los ca...</td>\n",
       "    </tr>\n",
       "  </tbody>\n",
       "</table>\n",
       "</div>"
      ]
     },
     "execution_count": 31,
     "metadata": {},
     "output_type": "execute_result"
    }
   ],
   "execution_count": 31
  },
  {
   "metadata": {
    "ExecuteTime": {
     "end_time": "2024-09-08T02:24:34.890202Z",
     "start_time": "2024-09-08T02:24:34.798654Z"
    }
   },
   "cell_type": "code",
   "source": "(ROOT_PATH / 'data/results' / 'articulos.xlsx').is_file()",
   "id": "adb0ea0eb9332e3c",
   "outputs": [
    {
     "data": {
      "text/plain": [
       "True"
      ]
     },
     "execution_count": 37,
     "metadata": {},
     "output_type": "execute_result"
    }
   ],
   "execution_count": 37
  },
  {
   "metadata": {
    "ExecuteTime": {
     "end_time": "2024-09-08T02:23:34.416426Z",
     "start_time": "2024-09-08T02:23:33.850306Z"
    }
   },
   "cell_type": "code",
   "source": "df.to_excel(ROOT_PATH / 'data/processed' / 'articulos.xlsx', index=False)",
   "id": "a7a293c8e0a7b5d3",
   "outputs": [],
   "execution_count": 33
  },
  {
   "metadata": {
    "ExecuteTime": {
     "end_time": "2024-09-08T02:43:13.896586Z",
     "start_time": "2024-09-08T02:43:13.738424Z"
    }
   },
   "cell_type": "code",
   "source": [
    "from langchain_openai import ChatOpenAI\n",
    "from langchain.prompts import PromptTemplate\n",
    "from langchain_core.output_parsers import JsonOutputParser\n",
    "from langchain_core.pydantic_v1 import BaseModel, Field"
   ],
   "id": "8f24523949044dce",
   "outputs": [],
   "execution_count": 39
  },
  {
   "metadata": {
    "ExecuteTime": {
     "end_time": "2024-09-08T03:00:36.395012Z",
     "start_time": "2024-09-08T03:00:35.247696Z"
    }
   },
   "cell_type": "code",
   "source": [
    "llm = ChatOpenAI(temperature=0, model=\"gpt-4o-mini\")\n",
    "\n",
    "class FormatedTextOutputParser(BaseModel):\n",
    "    summary: str = Field(description=\"El resultado del texto formateado\")\n",
    "\n",
    "class FormatedQuestionOutputParser(BaseModel):\n",
    "    summary: str = Field(description=\"El resultado del texto formateado\")\n",
    "    \n",
    "def get_boy_formated(llm, text: str) -> str: \n",
    "    parser = JsonOutputParser(pydantic_object=FormatedTextOutputParser)\n",
    "    prompt = PromptTemplate(\n",
    "    template=\"\"\"\n",
    "Reformula el siguiente texto para que fluya de manera coherente y natural, eliminando los saltos de línea innecesarios. Si el texto tiene una calificación asociada, colócala al principio. Adapta el estilo para que suene como una respuesta informativa de un asistente de IA, en lugar de un artículo de investigación. Omite o adapta cualquier referencia a entrevistas. Si se menciona 'Ecuador Verifica', modifica el texto para que se refiera a medios de comunicación o periodistas en general. El texto resultante debe ser una respuesta fluida y cohesiva, como si fuera generada por un LLM en respuesta a una consulta de información.\n",
    "\n",
    "{text}\n",
    "\n",
    "{format_instructions}\n",
    "                \"\"\",\n",
    "                input_variables=[\"text\"],\n",
    "        partial_variables={\"format_instructions\": parser.get_format_instructions()}\n",
    "    )\n",
    "    chain = prompt | llm | parser\n",
    "    response = chain.invoke({\"text\": text})\n",
    "    return response['summary']\n",
    "\n",
    "def get_question_formated(llm, text: str) -> str: \n",
    "    parser = JsonOutputParser(pydantic_object=FormatedQuestionOutputParser)\n",
    "    prompt = PromptTemplate(\n",
    "    template=\"\"\"\n",
    "Basándote en la siguiente información, genera una pregunta que simule a una persona buscando verificar una declaración hecha por un político en un discurso. La pregunta debe:\n",
    "\n",
    "Reflejar la esencia de la información proporcionada.\n",
    "Ser formulada como si fuera de un ciudadano común buscando aclaración sobre el discurso escuchado.\n",
    "Mencionar específicamente que la declaración proviene de un político si se menciona su nombre incluirlo.\n",
    "Solicitar explícitamente una verificación de los hechos.\n",
    "Ser concisa pero incluir los detalles clave de la información dada.\n",
    "\n",
    "Por favor, genera la pregunta basándote en la siguiente información:\n",
    "\n",
    "{text}\n",
    "\n",
    "{format_instructions}\n",
    "                \"\"\",\n",
    "                input_variables=[\"text\"],\n",
    "        partial_variables={\"format_instructions\": parser.get_format_instructions()}\n",
    "    )\n",
    "    chain = prompt | llm | parser\n",
    "    response = chain.invoke({\"text\": text})\n",
    "    return response['summary']\n"
   ],
   "id": "abfc7fbee3281f89",
   "outputs": [],
   "execution_count": 62
  },
  {
   "metadata": {
    "ExecuteTime": {
     "end_time": "2024-09-08T02:50:02.113461Z",
     "start_time": "2024-09-08T02:49:58.594324Z"
    }
   },
   "cell_type": "code",
   "source": [
    "\n",
    "text_test = df.body[0]\n",
    "text_formated = get_boy_formated(llm, text_test)\n",
    "print(text_formated)"
   ],
   "id": "28322b2e9605d2ae",
   "outputs": [
    {
     "name": "stdout",
     "output_type": "stream",
     "text": [
      "{'summary': 'La afirmación de Luisa González, candidata presidencial por la Revolución Ciudadana, sobre que el año pasado se registraron alrededor de 6.600 denuncias contra policías, de las cuales solo el 2% resultó en destitución, ha sido verificada y calificada como falsa. Según cifras oficiales, solo se registraron 34 denuncias en 2022, de las cuales tres policías fueron destituidos. La mayor parte de los sumarios administrativos se concentraron en Quito, con 12 casos, seguidos por Bolívar con 6 y Esmeraldas con 4. Las razones de las destituciones incluyeron la obtención de beneficios personales y el uso de documentos falsos. A pesar de las solicitudes de información, no se obtuvo respuesta del equipo de comunicación de la candidata ni de la Fiscalía General sobre el número de denuncias, ya que esta información debe ser solicitada al departamento de Asuntos Internos de la Policía.'}\n"
     ]
    }
   ],
   "execution_count": 53
  },
  {
   "metadata": {
    "ExecuteTime": {
     "end_time": "2024-09-08T02:50:22.385228Z",
     "start_time": "2024-09-08T02:50:22.248528Z"
    }
   },
   "cell_type": "code",
   "source": "text_formated['summary']",
   "id": "8e11b3cdb970dbc9",
   "outputs": [
    {
     "data": {
      "text/plain": [
       "'La afirmación de Luisa González, candidata presidencial por la Revolución Ciudadana, sobre que el año pasado se registraron alrededor de 6.600 denuncias contra policías, de las cuales solo el 2% resultó en destitución, ha sido verificada y calificada como falsa. Según cifras oficiales, solo se registraron 34 denuncias en 2022, de las cuales tres policías fueron destituidos. La mayor parte de los sumarios administrativos se concentraron en Quito, con 12 casos, seguidos por Bolívar con 6 y Esmeraldas con 4. Las razones de las destituciones incluyeron la obtención de beneficios personales y el uso de documentos falsos. A pesar de las solicitudes de información, no se obtuvo respuesta del equipo de comunicación de la candidata ni de la Fiscalía General sobre el número de denuncias, ya que esta información debe ser solicitada al departamento de Asuntos Internos de la Policía.'"
      ]
     },
     "execution_count": 54,
     "metadata": {},
     "output_type": "execute_result"
    }
   ],
   "execution_count": 54
  },
  {
   "metadata": {
    "ExecuteTime": {
     "end_time": "2024-09-08T03:00:41.653467Z",
     "start_time": "2024-09-08T03:00:40.508789Z"
    }
   },
   "cell_type": "code",
   "source": [
    "question = df.title[0]\n",
    "question_formated = get_question_formated(llm, question)\n",
    "print(question_formated)"
   ],
   "id": "e9ef6592a91750a4",
   "outputs": [
    {
     "name": "stdout",
     "output_type": "stream",
     "text": [
      "¿Es cierto que Luisa González, la candidata presidencial de Revolución Ciudadana, afirmó que el año pasado hubo 6.600 denuncias contra policías y que solo el 2% fue destituido? Me gustaría verificar esta información.\n"
     ]
    }
   ],
   "execution_count": 63
  },
  {
   "metadata": {
    "ExecuteTime": {
     "end_time": "2024-09-08T03:07:30.988530Z",
     "start_time": "2024-09-08T03:04:03.739877Z"
    }
   },
   "cell_type": "code",
   "source": [
    "# create a new dataframe with the formated text and questions\n",
    "data_formated = []\n",
    "# iterate over the rows of the original dataframe\n",
    "for index, row in df.iterrows():\n",
    "    # get the formated question\n",
    "    question = row.title\n",
    "    question_formated = get_question_formated(llm, question)\n",
    "    # get the formated text\n",
    "    text_input = row.body\n",
    "    text_formated = get_boy_formated(llm, text_input)\n",
    "    # append the data to the list\n",
    "    data_formated.append({'title': row.title, 'link': row.link, 'question': question_formated,'body': text_formated})"
   ],
   "id": "1ee0369c8ceac79b",
   "outputs": [],
   "execution_count": 64
  },
  {
   "metadata": {
    "ExecuteTime": {
     "end_time": "2024-09-08T03:08:25.501492Z",
     "start_time": "2024-09-08T03:08:25.357852Z"
    }
   },
   "cell_type": "code",
   "source": "df_formated = pd.DataFrame(data_formated)",
   "id": "672a7bedc990dd5c",
   "outputs": [],
   "execution_count": 66
  },
  {
   "metadata": {
    "ExecuteTime": {
     "end_time": "2024-09-08T03:09:02.766240Z",
     "start_time": "2024-09-08T03:09:02.589704Z"
    }
   },
   "cell_type": "code",
   "source": "df_formated.to_excel(ROOT_PATH / 'data/processed' / 'articulos_formated.xlsx', index=False)",
   "id": "92a4a6aa28e84b71",
   "outputs": [],
   "execution_count": 68
  },
  {
   "metadata": {},
   "cell_type": "code",
   "outputs": [],
   "execution_count": null,
   "source": "",
   "id": "a026b0eccd26a011"
  },
  {
   "metadata": {},
   "cell_type": "markdown",
   "source": "### sumar informacion de afirmaciones de asambleistas",
   "id": "4d9ed5812ed553d3"
  },
  {
   "metadata": {
    "ExecuteTime": {
     "end_time": "2024-09-15T22:48:18.891537Z",
     "start_time": "2024-09-15T22:48:18.321261Z"
    }
   },
   "cell_type": "code",
   "source": [
    "import pandas as pd\n",
    "\n",
    "df_discurso_politico = pd.read_excel(ROOT_PATH / 'data/processed' / 'articulos con formato.xlsx')\n",
    "df_asambleistas = pd.read_csv(ROOT_PATH / 'data/processed' / 'afirmaciones_asamblea.csv',encoding='utf-8')"
   ],
   "id": "948dc16c2bd6a969",
   "outputs": [],
   "execution_count": 6
  },
  {
   "metadata": {
    "ExecuteTime": {
     "end_time": "2024-09-15T22:48:54.591492Z",
     "start_time": "2024-09-15T22:48:54.507168Z"
    }
   },
   "cell_type": "code",
   "source": "df_fact_check = pd.concat([df_discurso_politico.drop(columns='link'), df_asambleistas], ignore_index=True)",
   "id": "bec4579770128641",
   "outputs": [],
   "execution_count": 7
  },
  {
   "metadata": {
    "ExecuteTime": {
     "end_time": "2024-09-15T22:50:29.062387Z",
     "start_time": "2024-09-15T22:50:28.923506Z"
    }
   },
   "cell_type": "code",
   "source": "df_fact_check.to_excel(ROOT_PATH / 'data/processed' / 'fact_check.xlsx', index=False)",
   "id": "ef3a9da4b4cf7a4",
   "outputs": [],
   "execution_count": 11
  },
  {
   "metadata": {},
   "cell_type": "markdown",
   "source": "## GPT",
   "id": "4a004ee4e73667e"
  },
  {
   "metadata": {
    "ExecuteTime": {
     "end_time": "2024-09-15T22:50:48.454218Z",
     "start_time": "2024-09-15T22:50:48.355848Z"
    }
   },
   "cell_type": "code",
   "source": "df_fact_check = pd.read_excel(ROOT_PATH / 'data/processed' / 'fact_check.xlsx')",
   "id": "23b03ac947d6bef3",
   "outputs": [],
   "execution_count": 12
  },
  {
   "metadata": {
    "ExecuteTime": {
     "end_time": "2024-09-15T22:51:20.285187Z",
     "start_time": "2024-09-15T22:51:20.122105Z"
    }
   },
   "cell_type": "code",
   "source": "import json",
   "id": "647e8b40c71db5ad",
   "outputs": [],
   "execution_count": 13
  },
  {
   "metadata": {
    "ExecuteTime": {
     "end_time": "2024-09-15T22:52:48.683091Z",
     "start_time": "2024-09-15T22:52:48.600333Z"
    }
   },
   "cell_type": "code",
   "source": "df_fact_check.columns",
   "id": "de506ade34065565",
   "outputs": [
    {
     "data": {
      "text/plain": [
       "Index(['title', 'question', 'body'], dtype='object')"
      ]
     },
     "execution_count": 14,
     "metadata": {},
     "output_type": "execute_result"
    }
   ],
   "execution_count": 14
  },
  {
   "metadata": {
    "ExecuteTime": {
     "end_time": "2024-09-15T22:53:19.898070Z",
     "start_time": "2024-09-15T22:53:19.811082Z"
    }
   },
   "cell_type": "code",
   "source": [
    "# Preparar la lista para los datos formateados\n",
    "formatted_data = []\n",
    "\n",
    "# Iterar sobre las filas del DataFrame\n",
    "for index, row in df_fact_check.iterrows():\n",
    "    conversation = {\n",
    "        \"messages\": [\n",
    "            {\"role\": \"system\", \"content\": \"Eres un asistente de IA que valida informacion de discursos politicos\"},\n",
    "            {\"role\": \"user\", \"content\": row['question']},\n",
    "            {\"role\": \"assistant\", \"content\": row['body']}\n",
    "        ]\n",
    "    }\n",
    "    formatted_data.append(conversation)\n",
    "\n"
   ],
   "id": "2816c31f1df581ec",
   "outputs": [],
   "execution_count": 15
  },
  {
   "metadata": {
    "ExecuteTime": {
     "end_time": "2024-09-15T22:55:03.774133Z",
     "start_time": "2024-09-15T22:55:03.683525Z"
    }
   },
   "cell_type": "code",
   "source": [
    "path_to_save = ROOT_PATH / 'data' / 'final' / 'datos_entrenamiento_gpt.json'\n",
    "# Guardar los datos formateados en un archivo JSON\n",
    "with open(path_to_save, 'w', encoding='utf-8') as f:\n",
    "    json.dump(formatted_data, f, ensure_ascii=False, indent=2)\n",
    "\n",
    "print(\"Archivo JSON creado con éxito.\")"
   ],
   "id": "ec4dcf35fc464860",
   "outputs": [
    {
     "name": "stdout",
     "output_type": "stream",
     "text": [
      "Archivo JSON creado con éxito.\n"
     ]
    }
   ],
   "execution_count": 17
  },
  {
   "metadata": {
    "ExecuteTime": {
     "end_time": "2024-09-15T23:48:12.123796Z",
     "start_time": "2024-09-15T23:48:12.035184Z"
    }
   },
   "cell_type": "code",
   "source": [
    "# Cargar el archivo JSON\n",
    "\n",
    "def json_to_jsonl(input_file, output_file):\n",
    "    with open(input_file, 'r', encoding='utf-8') as infile, open(output_file, 'w', encoding='utf-8') as outfile:\n",
    "        data = json.load(infile)\n",
    "        \n",
    "        # Si el archivo JSON es una lista\n",
    "        if isinstance(data, list):\n",
    "            for entry in data:\n",
    "                outfile.write(json.dumps(entry) + '\\n')\n",
    "        # Si el archivo JSON es un diccionario\n",
    "        elif isinstance(data, dict):\n",
    "            outfile.write(json.dumps(data) + '\\n')\n",
    "        else:\n",
    "            raise ValueError(\"El archivo JSON debe contener un objeto o una lista en la raíz.\")\n",
    "\n",
    "# Uso del código\n",
    "input_file = ROOT_PATH / 'data' / 'final' / 'datos_entrenamiento_rag.json'\n",
    "output_file = ROOT_PATH / 'data' / 'final' / 'datos_entrenamiento_ragL.jsonl'\n",
    "json_to_jsonl(input_file, output_file)"
   ],
   "id": "427b968c0527af75",
   "outputs": [],
   "execution_count": 20
  },
  {
   "metadata": {},
   "cell_type": "markdown",
   "source": "## LLAMA",
   "id": "2c3495a32d6d429b"
  }
 ],
 "metadata": {
  "kernelspec": {
   "display_name": "Python 3",
   "language": "python",
   "name": "python3"
  },
  "language_info": {
   "codemirror_mode": {
    "name": "ipython",
    "version": 2
   },
   "file_extension": ".py",
   "mimetype": "text/x-python",
   "name": "python",
   "nbconvert_exporter": "python",
   "pygments_lexer": "ipython2",
   "version": "2.7.6"
  }
 },
 "nbformat": 4,
 "nbformat_minor": 5
}
